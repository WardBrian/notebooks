{
 "cells": [
  {
   "cell_type": "code",
   "execution_count": null,
   "id": "31914afb-c2c5-405e-a7a3-ed9113ea3c5b",
   "metadata": {},
   "outputs": [],
   "source": [
    "import math\n",
    "import numpy as np"
   ]
  },
  {
   "cell_type": "code",
   "execution_count": null,
   "id": "d9fc3035-c5a2-40c3-b2d5-9b61259bfc4d",
   "metadata": {},
   "outputs": [],
   "source": [
    "num_draws_tot = 500"
   ]
  },
  {
   "cell_type": "code",
   "execution_count": null,
   "id": "1fae3598-f128-4fa5-8f2a-95d16f7e8d04",
   "metadata": {},
   "outputs": [],
   "source": [
    "def loop(dims):\n",
    "    data = np.random.random(math.prod(dims)).reshape(num_draws_tot, -1)\n",
    "    # logic starts here\n",
    "    dims.pop()\n",
    "    draws_complex = np.empty(\n",
    "        (math.prod(dims)), dtype=complex, order='F'\n",
    "    )\n",
    "    # skipping the selection of self._draws[draw1:, :, col_idxs] here\n",
    "    idx = 0\n",
    "    for i in range(num_draws_tot):\n",
    "        it = iter(data[i, :])\n",
    "        for x in it:\n",
    "            draws_complex[idx] = x + 1j * next(it)\n",
    "            idx += 1\n",
    "    return draws_complex.reshape(dims, order='F')"
   ]
  },
  {
   "cell_type": "code",
   "execution_count": null,
   "id": "264557fa-5ca4-409c-b26f-de35afb99069",
   "metadata": {},
   "outputs": [],
   "source": [
    "def vector(dims):\n",
    "    data = np.random.random(math.prod(dims)).reshape(num_draws_tot, -1)\n",
    "    # logic starts here\n",
    "    # skipping the selection of self._draws[draw1:, :, col_idxs] here\n",
    "    draws_complex = data.reshape(dims, order='F')\n",
    "    return draws_complex[...,0] + 1j* draws_complex[...,1]"
   ]
  },
  {
   "cell_type": "code",
   "execution_count": null,
   "id": "98e58145-d503-46a3-9737-1b8e8ad0d5fd",
   "metadata": {},
   "outputs": [],
   "source": [
    "dims = [num_draws_tot,10,12,2]"
   ]
  },
  {
   "cell_type": "code",
   "execution_count": null,
   "id": "93fda7d8-cefc-4123-b058-e587029ddeb8",
   "metadata": {},
   "outputs": [],
   "source": [
    "%timeit vector(dims.copy())"
   ]
  },
  {
   "cell_type": "code",
   "execution_count": null,
   "id": "7a215643-ea60-4329-af86-e7ad094137d9",
   "metadata": {},
   "outputs": [],
   "source": [
    "%timeit loop(dims.copy())"
   ]
  },
  {
   "cell_type": "code",
   "execution_count": null,
   "id": "2b3b9199-06a3-4b97-9b2e-b7a9a635f7eb",
   "metadata": {},
   "outputs": [],
   "source": []
  },
  {
   "cell_type": "code",
   "execution_count": null,
   "id": "7cc905b7-67cc-42f9-84f5-207593c0907f",
   "metadata": {},
   "outputs": [],
   "source": [
    "import numpy as np\n",
    "import scipy.sparse as sps"
   ]
  },
  {
   "cell_type": "code",
   "execution_count": null,
   "id": "f66ca5bc-3273-4817-a354-eafeb4afb1c2",
   "metadata": {},
   "outputs": [],
   "source": [
    "X = np.random.random((10_000, 500))"
   ]
  },
  {
   "cell_type": "code",
   "execution_count": null,
   "id": "ce66ad24-b4c9-4392-9985-657f06299d36",
   "metadata": {},
   "outputs": [],
   "source": [
    "V = np.random.random((1,500))"
   ]
  },
  {
   "cell_type": "code",
   "execution_count": null,
   "id": "39664d32-5bd6-4230-9be0-02aba27f896e",
   "metadata": {},
   "outputs": [],
   "source": [
    "%%timeit\n",
    "V @ X.T"
   ]
  },
  {
   "cell_type": "code",
   "execution_count": null,
   "id": "ab4d665e-415c-4ec2-a49d-e12d725db469",
   "metadata": {},
   "outputs": [],
   "source": [
    "%%timeit\n",
    "(X @ (V.T)).T"
   ]
  },
  {
   "cell_type": "code",
   "execution_count": null,
   "id": "abb16acb-c93e-41ec-8311-a2ba995c3092",
   "metadata": {},
   "outputs": [],
   "source": [
    "%%timeit\n",
    "# doesn't work with sparse\n",
    "np.einsum('ij,kj->ik', V, X)"
   ]
  },
  {
   "cell_type": "code",
   "execution_count": null,
   "id": "4dd4c888-12e4-41d1-be46-7af127b2ba53",
   "metadata": {},
   "outputs": [],
   "source": [
    "X = sps.random(100_000, 500, format='csc')"
   ]
  },
  {
   "cell_type": "code",
   "execution_count": null,
   "id": "44c2768b-e45d-46a5-9360-3d471912f5c5",
   "metadata": {},
   "outputs": [],
   "source": [
    "%%timeit\n",
    "V @ X.T"
   ]
  },
  {
   "cell_type": "code",
   "execution_count": null,
   "id": "023f2c76-c87b-4001-9749-4005aae557b8",
   "metadata": {},
   "outputs": [],
   "source": [
    "%%timeit\n",
    "(X @ (V.T)).T"
   ]
  },
  {
   "cell_type": "code",
   "execution_count": null,
   "id": "05217863-7202-4dc5-a01b-28615ab75e82",
   "metadata": {},
   "outputs": [],
   "source": [
    "X = sps.random(100_000, 500, format='csr')"
   ]
  },
  {
   "cell_type": "code",
   "execution_count": null,
   "id": "1d4b4ce2-5a6b-488c-9af5-3b09473c7545",
   "metadata": {},
   "outputs": [],
   "source": [
    "%%timeit\n",
    "V @ X.T"
   ]
  },
  {
   "cell_type": "code",
   "execution_count": null,
   "id": "e8223326-4b52-4466-83f5-0d518e344ee1",
   "metadata": {},
   "outputs": [],
   "source": [
    "%%timeit\n",
    "(X @ (V.T)).T"
   ]
  },
  {
   "cell_type": "code",
   "execution_count": null,
   "id": "ad2ccd03-2798-4a06-9f53-53937b4b5e3a",
   "metadata": {},
   "outputs": [],
   "source": []
  }
 ],
 "metadata": {
  "kernelspec": {
   "display_name": "stan",
   "language": "python",
   "name": "stan"
  },
  "language_info": {
   "codemirror_mode": {
    "name": "ipython",
    "version": 3
   },
   "file_extension": ".py",
   "mimetype": "text/x-python",
   "name": "python",
   "nbconvert_exporter": "python",
   "pygments_lexer": "ipython3",
   "version": "3.9.5"
  }
 },
 "nbformat": 4,
 "nbformat_minor": 5
}
