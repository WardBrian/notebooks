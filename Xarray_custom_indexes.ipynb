{
 "cells": [
  {
   "cell_type": "code",
   "execution_count": null,
   "metadata": {
    "colab": {
     "base_uri": "https://localhost:8080/"
    },
    "id": "9HyixsFvdDCO",
    "outputId": "bebd3d26-1a62-46c8-b84d-3080a3a95563"
   },
   "outputs": [],
   "source": [
    "!pip install xarray"
   ]
  },
  {
   "cell_type": "code",
   "execution_count": null,
   "metadata": {
    "colab": {
     "base_uri": "https://localhost:8080/",
     "height": 270
    },
    "id": "i7L2s3KjdJZb",
    "outputId": "bcffcfd6-0905-4844-e4e5-fdef1f2edabc"
   },
   "outputs": [],
   "source": [
    "import xarray as xr\n",
    "import numpy as np\n",
    "\n",
    "\n",
    "data = xr.DataArray(np.random.randn(2, 3), dims=(\"x\", \"y\"), coords={\"x\": [10, 100]})\n",
    "\n",
    "ds = xr.Dataset(dict(foo=data, bar=(\"x\", [1, 2]), baz=np.pi))\n",
    "ds"
   ]
  },
  {
   "cell_type": "code",
   "execution_count": null,
   "metadata": {
    "id": "G1TArdsCduso"
   },
   "outputs": [],
   "source": [
    "# This is the \"secret sauce\". We create a class which is a subclass of xarray.Index\n",
    "# https://docs.xarray.dev/en/latest/internals/how-to-create-custom-index.html\n",
    "\n",
    "from xarray.core.indexes import PandasIndex, IndexSelResult, normalize_label, get_indexer_nd\n",
    "\n",
    "# However, the built-in PandasIndex is _almost_ what we want,\n",
    "# so we subclass it to steal most of the functionality\n",
    "class LogIndexer(PandasIndex):\n",
    "  def __init__(self, *args, **kwargs):\n",
    "    super().__init__(*args, **kwargs)\n",
    "\n",
    "  # Except for .sel, where we can inject our custom logic!\n",
    "  def sel(self, labels: dict, method=None, tolerance=None) -> IndexSelResult:\n",
    "    # based on the code in https://github.com/pydata/xarray/blob/ce5130f39d780cdce87366ee657665f4a5d3051d/xarray/core/indexes.py#L745\n",
    "    if method == \"nearest_log\":\n",
    "      assert len(labels) == 1\n",
    "      coord_name, label = next(iter(labels.items()))\n",
    "      label_array = normalize_label(label, dtype=self.coord_dtype)\n",
    "      indexer = get_indexer_nd(np.log(self.index), np.log(label_array), method=\"nearest\", tolerance=tolerance)\n",
    "      return IndexSelResult({self.dim: indexer})\n",
    "    return super().sel(labels, method, tolerance)"
   ]
  },
  {
   "cell_type": "code",
   "execution_count": null,
   "metadata": {
    "colab": {
     "base_uri": "https://localhost:8080/",
     "height": 270
    },
    "id": "dvoIpvf8di2O",
    "outputId": "d559c6be-9958-4cd5-9891-b7ee66519f15"
   },
   "outputs": [],
   "source": [
    "# Now we need to make a dataset that uses this custom index\n",
    "# this odd incantation is the best I've found, but there may be others.\n",
    "ds_log = ds.drop_indexes('x').set_xindex('x', LogIndexer)\n",
    "ds_log"
   ]
  },
  {
   "cell_type": "code",
   "execution_count": null,
   "metadata": {
    "colab": {
     "base_uri": "https://localhost:8080/"
    },
    "id": "ypzcIJocdsGQ",
    "outputId": "11931118-4e4a-4392-a128-bdb21f6983b9"
   },
   "outputs": [],
   "source": [
    "# x has values 10 and 100, to make it easy to observe the differences here:\n",
    "\n",
    "print(\"normal:\\t\", ds_log.sel(x=[10,20,30,40,50,60], method=\"nearest\").x.data)\n",
    "print(\"log:\\t\", ds_log.sel(x=[10,20,30,40,50,60], method=\"nearest_log\").x.data)"
   ]
  }
 ],
 "metadata": {
  "colab": {
   "provenance": []
  },
  "kernelspec": {
   "display_name": "Python 3",
   "name": "python3"
  },
  "language_info": {
   "name": "python"
  }
 },
 "nbformat": 4,
 "nbformat_minor": 0
}
