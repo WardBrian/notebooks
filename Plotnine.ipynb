{
 "cells": [
  {
   "cell_type": "code",
   "execution_count": null,
   "id": "092138dc-7746-46a5-a9ed-35e7ee807e93",
   "metadata": {},
   "outputs": [],
   "source": [
    "from plotnine import *"
   ]
  },
  {
   "cell_type": "code",
   "execution_count": null,
   "id": "c253a91c-6f76-40a0-a763-f5a55cb63c2a",
   "metadata": {},
   "outputs": [],
   "source": [
    "from plotnine.data import diamonds"
   ]
  },
  {
   "cell_type": "code",
   "execution_count": null,
   "id": "598603de-c3b4-458c-afb8-9042c03989ba",
   "metadata": {},
   "outputs": [],
   "source": [
    "diamonds"
   ]
  },
  {
   "cell_type": "code",
   "execution_count": null,
   "id": "96328669-1ef4-4911-8cbb-8b70bd130ced",
   "metadata": {},
   "outputs": [],
   "source": [
    "(ggplot(diamonds, aes(\"cut\", \"price\", fill=\"clarity\")) + geom_col(position=\"dodge\"))"
   ]
  },
  {
   "cell_type": "code",
   "execution_count": null,
   "id": "8b72ea7c-261d-4873-b1bf-b9b47107fb2f",
   "metadata": {},
   "outputs": [],
   "source": [
    "(ggplot(diamonds, aes(\"clarity\", \"price\", fill=\"cut\")) + geom_col(position=\"dodge\"))"
   ]
  },
  {
   "cell_type": "code",
   "execution_count": null,
   "id": "cf09a303-52a8-4ac4-963c-63f292c33884",
   "metadata": {},
   "outputs": [],
   "source": [
    "import numpy as np\n",
    "import pandas as pd"
   ]
  },
  {
   "cell_type": "code",
   "execution_count": null,
   "id": "1a54805a-10d4-491e-bbf5-8b56de2e6203",
   "metadata": {},
   "outputs": [],
   "source": [
    "iris = pd.read_csv(\"https://gist.githubusercontent.com/netj/8836201/raw/6f9306ad21398ea43cba4f7d537619d0e07d5ae3/iris.csv\")\n",
    "iris"
   ]
  },
  {
   "cell_type": "code",
   "execution_count": null,
   "id": "284fd651-0891-4bc0-8dd8-a9a4183af812",
   "metadata": {},
   "outputs": [],
   "source": [
    "(\n",
    "    ggplot(\n",
    "        iris,\n",
    "        aes(\n",
    "            \"sepal.width\",\n",
    "            \"petal.width\",\n",
    "        ),\n",
    "    )\n",
    "    + geom_point()\n",
    "    + geom_smooth(method=\"lm\")\n",
    ")"
   ]
  },
  {
   "cell_type": "code",
   "execution_count": null,
   "id": "d480d8ae-26b2-4871-b0d6-a19e3c1c2e6f",
   "metadata": {},
   "outputs": [],
   "source": [
    "p = (\n",
    "    ggplot(\n",
    "        iris,\n",
    "        aes(\n",
    "            \"sepal.width\",\n",
    "            \"petal.width\",\n",
    "            color=\"variety\",\n",
    "        ),\n",
    "    )\n",
    "    + geom_point()\n",
    "    + geom_smooth(method=\"lm\")\n",
    ")\n",
    "p"
   ]
  },
  {
   "cell_type": "code",
   "execution_count": null,
   "id": "5d4777d8-fe46-4658-9e83-a781f530e2d5",
   "metadata": {},
   "outputs": [],
   "source": [
    "(\n",
    "    ggplot(\n",
    "        iris,\n",
    "        aes(\n",
    "            \"sepal.width\",\n",
    "            \"petal.width\",\n",
    "        ),\n",
    "    )\n",
    "    + geom_point()\n",
    "    + geom_smooth(aes(\n",
    "                    \"sepal.width\",\n",
    "                    \"petal.width\",\n",
    "                    color=\"variety\",\n",
    "                    ),\n",
    "                  method=\"lm\")\n",
    ")"
   ]
  },
  {
   "cell_type": "code",
   "execution_count": null,
   "id": "0bd33831-6c66-4ef3-bcca-3ad81fb310f8",
   "metadata": {},
   "outputs": [],
   "source": [
    "elements = pd.read_csv(\"https://raw.githubusercontent.com/has2k1/plotnine-examples/main/plotnine_examples/examples/data/elements.csv\")\n",
    "elements = elements[['symbol', 'atomic number', 'group', 'period', 'name', 'metal', 'atomic mass', 'bonding type']]\n",
    "elements.head()"
   ]
  },
  {
   "cell_type": "code",
   "execution_count": null,
   "id": "0397f3ca-c481-4a7d-956f-ed4a92b61f97",
   "metadata": {},
   "outputs": [],
   "source": [
    "elements['group'] = [-1 if g == '-' else int(g) for g in elements.group]\n",
    "elements['bonding type'] = elements['bonding type'].astype('category')\n",
    "elements['metal'] = elements['metal'].astype('category')\n",
    "elements['atomic_number'] = elements['atomic number'].astype(str)"
   ]
  },
  {
   "cell_type": "code",
   "execution_count": null,
   "id": "68225d80-d68c-4113-937b-de3c28b10502",
   "metadata": {},
   "outputs": [],
   "source": [
    "top = elements.query('group != -1').copy()\n",
    "bottom = elements.query('group == -1').copy()"
   ]
  },
  {
   "cell_type": "code",
   "execution_count": null,
   "id": "e2eba315-66f6-45a9-899e-462ef296247a",
   "metadata": {},
   "outputs": [],
   "source": [
    "top['x'] = top.group\n",
    "top['y'] = top.period \n",
    "\n",
    "nrows = 2\n",
    "hshift = 3.5\n",
    "vshift = 3\n",
    "bottom['x'] = np.tile(np.arange(len(bottom)//nrows), nrows) + hshift\n",
    "bottom['y'] = bottom.period + vshift"
   ]
  },
  {
   "cell_type": "code",
   "execution_count": null,
   "id": "2f34bbe9-9d3e-49eb-823d-5e49a30dccf8",
   "metadata": {},
   "outputs": [],
   "source": [
    "tile_width = 0.95\n",
    "tile_height = 0.95"
   ]
  },
  {
   "cell_type": "code",
   "execution_count": null,
   "id": "63a8c14f-c068-4402-9f33-fe00595d4fc7",
   "metadata": {},
   "outputs": [],
   "source": [
    "split_df = pd.DataFrame({\n",
    "    'x': 3-tile_width/4,\n",
    "    'y': [6, 7],\n",
    "    'metal': pd.Categorical(['lanthanoid', 'actinoid'])\n",
    "})"
   ]
  },
  {
   "cell_type": "code",
   "execution_count": null,
   "id": "88c00cee-3bdb-487e-af3c-08e6473f5208",
   "metadata": {},
   "outputs": [],
   "source": [
    "def inner_text(data):\n",
    "    layers = [geom_text(data, aes(label='atomic_number'), nudge_x=-0.40, nudge_y=0.40,\n",
    "                        ha='left', va='top', fontweight='normal', size=6),\n",
    "              geom_text(data, aes(label='symbol'), nudge_y=.1, size=9),\n",
    "              geom_text(data, aes(label='name'), nudge_y=-0.125, fontweight='normal', size=4.5),\n",
    "              geom_text(data, aes(label='atomic mass'), nudge_y=-.3, fontweight='normal', size=4.5)]\n",
    "    return layers"
   ]
  },
  {
   "cell_type": "code",
   "execution_count": null,
   "id": "101382a9-95f8-494f-a3e6-d8ca0d8a9261",
   "metadata": {},
   "outputs": [],
   "source": [
    "p = (ggplot(aes('x', 'y'))\n",
    " + aes(fill='metal')\n",
    " + geom_tile(top, aes(width=tile_width, height=tile_height))\n",
    " + geom_tile(split_df, aes(width=tile_width/2, height=tile_height))\n",
    " + geom_tile(bottom, aes(width=tile_width, height=tile_height))\n",
    " + inner_text(top)\n",
    " + inner_text(bottom)\n",
    " + scale_y_reverse()\n",
    " + coord_equal(expand=False)\n",
    " + theme_void()       \n",
    " + theme(figure_size=(12, 6),\n",
    "         plot_background=element_rect(fill='white'))\n",
    ")\n",
    "p"
   ]
  },
  {
   "cell_type": "code",
   "execution_count": null,
   "id": "da46bc8d-f3d2-4685-a1e9-472afbc51a67",
   "metadata": {},
   "outputs": [],
   "source": [
    "p.save('test.png', dpi=300)"
   ]
  },
  {
   "cell_type": "code",
   "execution_count": null,
   "id": "25c9a3ce-7595-45b7-a84a-2f44e30adc90",
   "metadata": {},
   "outputs": [],
   "source": []
  }
 ],
 "metadata": {
  "kernelspec": {
   "display_name": "stan",
   "language": "python",
   "name": "stan"
  },
  "language_info": {
   "codemirror_mode": {
    "name": "ipython",
    "version": 3
   },
   "file_extension": ".py",
   "mimetype": "text/x-python",
   "name": "python",
   "nbconvert_exporter": "python",
   "pygments_lexer": "ipython3",
   "version": "3.9.5"
  }
 },
 "nbformat": 4,
 "nbformat_minor": 5
}
