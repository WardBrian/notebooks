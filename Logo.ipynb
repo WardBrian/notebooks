{
 "cells": [
  {
   "cell_type": "code",
   "execution_count": null,
   "id": "e7aa0c91-765c-4661-825d-41a8104e5355",
   "metadata": {},
   "outputs": [],
   "source": [
    "import numpy as np\n",
    "import matplotlib.pyplot as plt\n",
    "from scipy import stats\n",
    "from PIL import Image, ImageOps"
   ]
  },
  {
   "cell_type": "code",
   "execution_count": null,
   "id": "58cd6358-88eb-490a-9bc0-d2fadd93dc3c",
   "metadata": {},
   "outputs": [],
   "source": [
    "logo = np.atleast_3d(ImageOps.flip(Image.open('./FI.png').convert(\"RGBA\").rotate(90))) / 255"
   ]
  },
  {
   "cell_type": "code",
   "execution_count": null,
   "id": "04108bec-2238-466f-b4de-de84b87f37bc",
   "metadata": {},
   "outputs": [],
   "source": [
    "xx, yy = np.meshgrid(np.linspace(0, 1, 200), np.linspace(0, 1, 200))\n",
    "\n",
    "X = xx\n",
    "Y = yy"
   ]
  },
  {
   "cell_type": "code",
   "execution_count": null,
   "id": "5db8e65c-4344-47d5-9d02-c0cb261a32e5",
   "metadata": {},
   "outputs": [],
   "source": [
    "ax = plt.figure().add_subplot(projection='3d')\n",
    "\n",
    "# Plot a sin curve using the x and y axes.\n",
    "x = np.linspace(0, 1, 100)\n",
    "y = (stats.norm(0.35,0.08).pdf(x) + stats.norm(0.75,0.12).pdf(x)) / 1.75\n",
    "ax.plot(x, y, zs=1, zdir='y')\n",
    "\n",
    "# Plot a sin curve using the x and y axes.\n",
    "x = np.linspace(0, 1, 100)\n",
    "y = stats.norm(0.5,0.1).pdf(x)\n",
    "ax.plot(x, y, zs=0, zdir='x', color='gray')\n",
    "\n",
    "ax.plot_surface(X,Y, np.atleast_2d(-0.1), rstride=1, cstride=1, facecolors=logo, shade=False)\n",
    "\n",
    "ax.set_xlim(0, 1)\n",
    "ax.set_ylim(0, 1)\n",
    "ax.set_zlim(-0.1,4)\n",
    "\n",
    "ax.view_init(elev=45., azim=-45)\n",
    "\n",
    "ax.grid(False)\n",
    "ax.w_xaxis.line.set_color((1.0, 1.0, 1.0, 0.0))\n",
    "ax.w_yaxis.line.set_color((1.0, 1.0, 1.0, 0.0))\n",
    "ax.w_zaxis.line.set_color((1.0, 1.0, 1.0, 0.0))\n",
    "ax.set_xticks([]) \n",
    "ax.set_yticks([]) \n",
    "ax.set_zticks([])\n",
    "\n",
    "for p in ax.patches:\n",
    "    p.set_alpha(1.0)\n",
    "\n",
    "# ax.set_facecolor((0.9,0.9,0.9))\n",
    "plt.savefig(\"test.png\", transparent=True, bbox_inches=\"tight\")"
   ]
  },
  {
   "cell_type": "code",
   "execution_count": null,
   "id": "029d3e9a-6c40-4951-8ebb-fd7faafcdd1c",
   "metadata": {},
   "outputs": [],
   "source": []
  }
 ],
 "metadata": {
  "kernelspec": {
   "display_name": "Python 3",
   "language": "python",
   "name": "python3"
  },
  "language_info": {
   "codemirror_mode": {
    "name": "ipython",
    "version": 3
   },
   "file_extension": ".py",
   "mimetype": "text/x-python",
   "name": "python",
   "nbconvert_exporter": "python",
   "pygments_lexer": "ipython3",
   "version": "3.9.5"
  }
 },
 "nbformat": 4,
 "nbformat_minor": 5
}
