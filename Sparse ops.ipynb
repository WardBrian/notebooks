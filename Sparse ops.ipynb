{
 "cells": [
  {
   "cell_type": "code",
   "execution_count": null,
   "id": "bd482b82-b93b-4c84-8eda-7a8552b129c0",
   "metadata": {},
   "outputs": [],
   "source": [
    "import scipy.sparse as sps\n",
    "import numpy as np\n",
    "import numba\n",
    "import jax"
   ]
  },
  {
   "cell_type": "code",
   "execution_count": null,
   "id": "19e8ddf0-4532-48fc-af58-9b838453957d",
   "metadata": {},
   "outputs": [],
   "source": [
    "X = sps.rand(81456, 3987, density=0.0000002, format='csr')\n",
    "V = np.random.random((3987,1))"
   ]
  },
  {
   "cell_type": "code",
   "execution_count": null,
   "id": "34df02cf-cb17-46b1-b95e-5a4a126d8354",
   "metadata": {},
   "outputs": [],
   "source": [
    "%timeit X @ V"
   ]
  },
  {
   "cell_type": "code",
   "execution_count": null,
   "id": "725e4c2d-dcfa-49a2-9a3b-1b8c4da8f7ff",
   "metadata": {},
   "outputs": [],
   "source": [
    "# compare to https://github.com/scipy/scipy/blob/5ae19560e0bb1934ff3d375fd36603fdf4265464/scipy/sparse/sparsetools/csr.h#L1121\n",
    "def csr_X_v(X_data, X_rowptr, X_col, N, V):\n",
    "    res = np.zeros((N,1))\n",
    "    for i in range(N):\n",
    "        sum = res[i]\n",
    "        for k in range(X_rowptr[i], X_rowptr[i+1]):\n",
    "            sum += X_data[k] * V[X_col[k]]\n",
    "        res[i] = sum\n",
    "    return res"
   ]
  },
  {
   "cell_type": "code",
   "execution_count": null,
   "id": "09f5587d-c507-491d-a0cc-92e603c42a4c",
   "metadata": {},
   "outputs": [],
   "source": [
    "np.all(np.equal(csr_X_v(X.data, X.indptr, X.indices, X.shape[0], V), X @ V).flat)"
   ]
  },
  {
   "cell_type": "code",
   "execution_count": null,
   "id": "402837c6-5dde-41d9-b112-2e3a32ae84ac",
   "metadata": {},
   "outputs": [],
   "source": [
    "%timeit csr_X_v(X.data, X.indptr, X.indices, X.shape[0], V)"
   ]
  },
  {
   "cell_type": "code",
   "execution_count": null,
   "id": "e9b15659-1bbe-41ea-982f-fb4f6523cda2",
   "metadata": {},
   "outputs": [],
   "source": [
    "csr_X_v_njit = numba.njit(csr_X_v)\n",
    "csr_X_v_njit(X.data, X.indptr, X.indices, X.shape[0], V)"
   ]
  },
  {
   "cell_type": "code",
   "execution_count": null,
   "id": "c6a462f3-f770-45d4-b59d-a725140e34f0",
   "metadata": {},
   "outputs": [],
   "source": [
    "%timeit csr_X_v_njit(X.data, X.indptr, X.indices, X.shape[0], V)"
   ]
  },
  {
   "cell_type": "code",
   "execution_count": null,
   "id": "f265dea2-48c7-4e1c-80b7-80f94c22db76",
   "metadata": {},
   "outputs": [],
   "source": [
    "csr_X_v_njitfm = numba.njit(csr_X_v, fastmath=True)\n",
    "csr_X_v_njitfm(X.data, X.indptr, X.indices, X.shape[0], V)"
   ]
  },
  {
   "cell_type": "code",
   "execution_count": null,
   "id": "84aac03a-19df-439a-89b5-fc2b5a1b0db3",
   "metadata": {},
   "outputs": [],
   "source": [
    "%timeit csr_X_v_njitfm(X.data, X.indptr, X.indices, X.shape[0], V)"
   ]
  },
  {
   "cell_type": "code",
   "execution_count": null,
   "id": "657eb799-b9b0-4d3d-bc4f-d19dcf4b0cee",
   "metadata": {},
   "outputs": [],
   "source": []
  }
 ],
 "metadata": {
  "kernelspec": {
   "display_name": "Python 3 (ipykernel)",
   "language": "python",
   "name": "python3"
  },
  "language_info": {
   "codemirror_mode": {
    "name": "ipython",
    "version": 3
   },
   "file_extension": ".py",
   "mimetype": "text/x-python",
   "name": "python",
   "nbconvert_exporter": "python",
   "pygments_lexer": "ipython3",
   "version": "3.9.4"
  }
 },
 "nbformat": 4,
 "nbformat_minor": 5
}
