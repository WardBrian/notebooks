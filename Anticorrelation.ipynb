{
 "cells": [
  {
   "cell_type": "code",
   "execution_count": null,
   "id": "8925a4e9-2860-457f-aa1b-32f96f8f8fa0",
   "metadata": {},
   "outputs": [],
   "source": [
    "import random\n",
    "import matplotlib.pyplot as plt"
   ]
  },
  {
   "cell_type": "code",
   "execution_count": null,
   "id": "af994058-6156-4ecc-a043-64adeb0d683b",
   "metadata": {},
   "outputs": [],
   "source": [
    "def draws(p=0.5):\n",
    "    state = random.randint(0,1)\n",
    "    \n",
    "    while True:\n",
    "        if random.random() < p:\n",
    "            state = int(not state)\n",
    "        yield state"
   ]
  },
  {
   "cell_type": "code",
   "execution_count": null,
   "id": "d8ccb6a2-b4f9-4219-ad4c-107a76af18f5",
   "metadata": {},
   "outputs": [],
   "source": [
    "def running_average(draws):\n",
    "    i = 0\n",
    "    total = 0\n",
    "    \n",
    "    while True:\n",
    "        i += 1\n",
    "        total += next(draws)\n",
    "        yield total / i"
   ]
  },
  {
   "cell_type": "code",
   "execution_count": null,
   "id": "51f69408-3d33-4a8a-85cc-9694e0dfaf48",
   "metadata": {},
   "outputs": [],
   "source": [
    "corr = 0.05\n",
    "independent = running_average(draws())\n",
    "correlated = running_average(draws(corr))\n",
    "anticorrelated = running_average(draws(1-corr))\n",
    "\n",
    "N = 500\n",
    "plt.title(f'Running average for 2-state Markov generator')\n",
    "plt.plot(range(N), [next(independent) for _ in range(N)], label='Independent')\n",
    "plt.plot(range(N), [next(correlated) for _ in range(N)], label='Correlated')\n",
    "plt.plot(range(N), [next(anticorrelated) for _ in range(N)], label='Anticorrelated')\n",
    "plt.axhline(0.5, color='k', linestyle=':', alpha=0.4)\n",
    "plt.legend()"
   ]
  },
  {
   "cell_type": "code",
   "execution_count": null,
   "id": "1f3120fe-350d-4425-8794-6fa9f470e1dd",
   "metadata": {},
   "outputs": [],
   "source": []
  }
 ],
 "metadata": {
  "kernelspec": {
   "display_name": "Python 3.9.5 ('stan')",
   "language": "python",
   "name": "python3"
  },
  "language_info": {
   "codemirror_mode": {
    "name": "ipython",
    "version": 3
   },
   "file_extension": ".py",
   "mimetype": "text/x-python",
   "name": "python",
   "nbconvert_exporter": "python",
   "pygments_lexer": "ipython3",
   "version": "3.9.5"
  },
  "vscode": {
   "interpreter": {
    "hash": "8765ce46b013071999fc1966b52035a7309a0da7551e066cc0f0fa23e83d4f60"
   }
  }
 },
 "nbformat": 4,
 "nbformat_minor": 5
}
