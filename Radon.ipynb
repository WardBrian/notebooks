{
 "cells": [
  {
   "cell_type": "markdown",
   "id": "13124abe-2386-4739-af0f-108269a0e77a",
   "metadata": {},
   "source": [
    "# Radon case study\n",
    "\n",
    "Follows closely with [Bambi's](https://bambinos.github.io/bambi/main/notebooks/radon_example.html#Multilevel-and-hierarchical-models)"
   ]
  },
  {
   "cell_type": "code",
   "execution_count": null,
   "id": "12fd668c-46dd-4244-950d-9cead443c37d",
   "metadata": {},
   "outputs": [],
   "source": [
    "from scikit_stan import GLM\n",
    "import pandas as pd\n",
    "import numpy as np\n",
    "import formulae\n",
    "import scipy.sparse as sp\n",
    "import arviz as az"
   ]
  },
  {
   "cell_type": "code",
   "execution_count": null,
   "id": "8202e562-7ff6-4991-920a-8c1ab40ffbcb",
   "metadata": {},
   "outputs": [],
   "source": [
    "radon = pd.read_csv('https://raw.githubusercontent.com/stan-dev/example-models/master/jupyter/radon/data/mn_radon.csv')\n",
    "counties = pd.read_csv('https://raw.githubusercontent.com/stan-dev/example-models/master/jupyter/radon/data/mn_uranium.csv')"
   ]
  },
  {
   "cell_type": "code",
   "execution_count": null,
   "id": "49b027d7-fadf-452e-9727-be3e271852fd",
   "metadata": {},
   "outputs": [],
   "source": [
    "radon[\"floor\"] = radon[\"floor\"].map({0: \"Basement\", 1: \"Floor\"})\n",
    "radon.county = radon.county.map(str.strip)"
   ]
  },
  {
   "cell_type": "code",
   "execution_count": null,
   "id": "cd3e5f6a-9f94-45e0-95c5-2c666608ba11",
   "metadata": {},
   "outputs": [],
   "source": [
    "radon.head()"
   ]
  },
  {
   "cell_type": "markdown",
   "id": "e31dd596-700d-4460-91fe-1a1bc2fb1cc1",
   "metadata": {},
   "source": [
    "## Complete pooling"
   ]
  },
  {
   "cell_type": "code",
   "execution_count": null,
   "id": "0e7e4d38-a1ce-4261-b5d7-104c2433fb51",
   "metadata": {},
   "outputs": [],
   "source": [
    "form = formulae.design_matrices(\"log_radon ~ 0 + floor\", radon)\n",
    "X = np.array(form.common)\n",
    "y = np.array(form.response)\n",
    "form"
   ]
  },
  {
   "cell_type": "code",
   "execution_count": null,
   "id": "69dbc8bb-59d8-46b4-a303-5eaecf168627",
   "metadata": {},
   "outputs": [],
   "source": [
    "complete_model = GLM( save_log_lik=True)"
   ]
  },
  {
   "cell_type": "code",
   "execution_count": null,
   "id": "bfafe399-7df9-4fcc-a1dc-bc134f395de6",
   "metadata": {},
   "outputs": [],
   "source": [
    "complete_model.fit(X[:,1:], y)"
   ]
  },
  {
   "cell_type": "code",
   "execution_count": null,
   "id": "d1d72445-df59-466a-9a2a-5787a4c8a0df",
   "metadata": {},
   "outputs": [],
   "source": [
    "az.plot_trace(az.from_cmdstanpy(complete_model.fitted_samples_), var_names=['beta', 'sigma'], compact=True)"
   ]
  },
  {
   "cell_type": "markdown",
   "id": "e7daacba-0ff0-4b3d-9c83-4e7e090cf32b",
   "metadata": {},
   "source": [
    "## No pooling"
   ]
  },
  {
   "cell_type": "code",
   "execution_count": null,
   "id": "e7b76a8b-0dbf-4e05-a214-e19c0c09c2da",
   "metadata": {},
   "outputs": [],
   "source": [
    "form = formulae.design_matrices(\"log_radon ~ 0 + county:floor\", radon)\n",
    "X = sp.csc_matrix(np.array(form.common))\n",
    "y = np.array(form.response)\n",
    "form"
   ]
  },
  {
   "cell_type": "code",
   "execution_count": null,
   "id": "12f688ab-8123-4a59-8a74-ab4587a4021d",
   "metadata": {},
   "outputs": [],
   "source": [
    "X"
   ]
  },
  {
   "cell_type": "code",
   "execution_count": null,
   "id": "86ba4f5d-9d1c-42ed-b714-e942308bb028",
   "metadata": {},
   "outputs": [],
   "source": [
    "unpooled = GLM(fit_intercept=False, save_log_lik=True)"
   ]
  },
  {
   "cell_type": "code",
   "execution_count": null,
   "id": "e9e56092-62c6-493b-8d63-65b4b8a9d5bd",
   "metadata": {},
   "outputs": [],
   "source": [
    "unpooled.fit(X, y)"
   ]
  },
  {
   "cell_type": "code",
   "execution_count": null,
   "id": "dbe436d5-cbca-43a7-ad2e-fb6bcb1a2807",
   "metadata": {},
   "outputs": [],
   "source": [
    "az.plot_trace(az.from_cmdstanpy(unpooled.fitted_samples_), var_names=['beta', 'sigma'], compact=True)"
   ]
  },
  {
   "cell_type": "code",
   "execution_count": null,
   "id": "caca37da-b19b-4b67-80fd-97d324686aa8",
   "metadata": {},
   "outputs": [],
   "source": [
    "infdata = az.from_cmdstanpy(unpooled.fitted_samples_)\n",
    "infdata.posterior['beta_dim_0'] = form.common.as_dataframe().columns\n",
    "infdata"
   ]
  },
  {
   "cell_type": "code",
   "execution_count": null,
   "id": "1ad29f28-c9ce-4f7b-90a7-f006bc768667",
   "metadata": {},
   "outputs": [],
   "source": [
    "az.loo(infdata)"
   ]
  },
  {
   "cell_type": "code",
   "execution_count": null,
   "id": "d37e1ecd-0d02-44e3-b545-b642f7ad655e",
   "metadata": {},
   "outputs": [],
   "source": [
    "az.plot_forest(data=infdata, var_names=['beta'], figsize=(6, 32), r_hat=True, combined=True, textsize=8)"
   ]
  },
  {
   "cell_type": "markdown",
   "id": "a40c3352-7a58-4639-9319-cfdbe5f3e2b3",
   "metadata": {},
   "source": [
    "## Partial pooling\n",
    "\n",
    "Need group-level data in a fit, or a new model? RSTANARM uses GLMER here. "
   ]
  },
  {
   "cell_type": "code",
   "execution_count": null,
   "id": "cecdffe8-3017-4414-bd94-32ef24b318c0",
   "metadata": {},
   "outputs": [],
   "source": [
    "x = (formulae.design_matrices('log_radon ~ 1 + (1|county)', radon))\n",
    "x"
   ]
  },
  {
   "cell_type": "code",
   "execution_count": null,
   "id": "dcdfd68b-8900-4c65-b24c-69d91ed3e525",
   "metadata": {},
   "outputs": [],
   "source": [
    "# 1s indicating which groups (county) each observation pertains to\n",
    "# a one in i,j means the ith observation is in group j\n",
    "np.array(x.group)"
   ]
  },
  {
   "cell_type": "code",
   "execution_count": null,
   "id": "eb142862-ce1d-4deb-9eac-ec0facb3c625",
   "metadata": {},
   "outputs": [],
   "source": [
    "formulae.design_matrices(\"log_radon ~ 0 + floor + log_uranium + (0 + floor|county)\", radon)"
   ]
  },
  {
   "cell_type": "code",
   "execution_count": null,
   "id": "5e15c2e0-5dcf-4a31-94d2-acffc68e54e6",
   "metadata": {},
   "outputs": [],
   "source": [
    "# y ~ BX + ZC\n",
    "\n",
    "\n",
    "# C is 85x1\n",
    "\n",
    "# What is C? Priors?"
   ]
  },
  {
   "cell_type": "code",
   "execution_count": null,
   "id": "c2e4220d-2c0b-4118-88b7-9cea18d20bd4",
   "metadata": {},
   "outputs": [],
   "source": []
  },
  {
   "cell_type": "code",
   "execution_count": null,
   "id": "f73b2aa1-83dd-4354-8ac4-66fbe62afbb3",
   "metadata": {},
   "outputs": [],
   "source": [
    "sucesses = np.random.randint(3,10, size=110)\n",
    "trials = 13\n",
    "failures = trials - sucesses\n",
    "df = pd.DataFrame.from_dict({\"y\":sucesses,\n",
    "                             \"ybar\": failures,\n",
    "                            \"x\":np.concatenate([np.zeros(50), np.ones(60)])})\n"
   ]
  },
  {
   "cell_type": "code",
   "execution_count": null,
   "id": "92643c1b-8675-4784-bc54-f99c0826791e",
   "metadata": {},
   "outputs": [],
   "source": [
    "def stack(x1, x2):\n",
    "    return np.vstack([x1, x2]) "
   ]
  },
  {
   "cell_type": "code",
   "execution_count": null,
   "id": "6daf297d-8d33-49ed-9a54-9e700ec4d941",
   "metadata": {},
   "outputs": [],
   "source": [
    "stack(sucesses, failures)[1]"
   ]
  },
  {
   "cell_type": "code",
   "execution_count": null,
   "id": "60a9a486-32d2-40c2-ae38-8c71ae70ac3a",
   "metadata": {},
   "outputs": [],
   "source": [
    "np.array(formulae.design_matrices(\"{stack(y, ybar)} ~ x\", df).response)"
   ]
  },
  {
   "cell_type": "code",
   "execution_count": null,
   "id": "f1f6fcfa-a9e4-49bc-9093-45f59458694d",
   "metadata": {},
   "outputs": [],
   "source": [
    "np.array(formulae.design_matrices(\"{stack(y, ybar)} ~ x\", df))"
   ]
  },
  {
   "cell_type": "code",
   "execution_count": null,
   "id": "3ec61358-da25-4584-afa5-5a6b9eedaeb6",
   "metadata": {},
   "outputs": [],
   "source": []
  },
  {
   "cell_type": "markdown",
   "id": "8fae1f57-f629-45e8-9da1-533ff66c026e",
   "metadata": {
    "tags": []
   },
   "source": [
    "## Roaches"
   ]
  },
  {
   "cell_type": "code",
   "execution_count": null,
   "id": "e5c62582-a26b-41a5-b636-ac6b229b86c9",
   "metadata": {},
   "outputs": [],
   "source": [
    "roaches = pd.read_csv('../roaches.csv')\n",
    "form = formulae.design_matrices(\"y ~ {roach1 / 100} + treatment + senior)\", roaches)\n",
    "X = np.array(form.common)\n",
    "y = np.array(form.response)"
   ]
  },
  {
   "cell_type": "code",
   "execution_count": null,
   "id": "95ecc049-f4f2-4601-a2fa-22194486cd9b",
   "metadata": {},
   "outputs": [],
   "source": [
    "r_glm = GLM(fit_intercept=False, family=\"poisson\", link=\"log\")"
   ]
  },
  {
   "cell_type": "code",
   "execution_count": null,
   "id": "94f85e78-87c3-4f61-848b-db63d939aacf",
   "metadata": {},
   "outputs": [],
   "source": [
    "r_glm.fit(X,y)"
   ]
  },
  {
   "cell_type": "code",
   "execution_count": null,
   "id": "af37382e-ebe0-4942-92ee-888ae74905bd",
   "metadata": {},
   "outputs": [],
   "source": [
    "loo1 = az.loo(az.from_cmdstanpy(r_glm.fitted_samples_))\n",
    "loo1"
   ]
  },
  {
   "cell_type": "code",
   "execution_count": null,
   "id": "5ff6fb25-c628-4493-a1ae-408e29b1d499",
   "metadata": {},
   "outputs": [],
   "source": [
    "az.plot_khat(loo1, show_hlines=True)"
   ]
  },
  {
   "cell_type": "code",
   "execution_count": null,
   "id": "919d6cc6-9922-43a4-8272-ceeb19b4bd1c",
   "metadata": {},
   "outputs": [],
   "source": []
  },
  {
   "cell_type": "code",
   "execution_count": null,
   "id": "05c2842a-56a6-4a26-b2ef-f215b13a49d5",
   "metadata": {},
   "outputs": [],
   "source": []
  }
 ],
 "metadata": {
  "kernelspec": {
   "display_name": "Python 3 (ipykernel)",
   "language": "python",
   "name": "python3"
  },
  "language_info": {
   "codemirror_mode": {
    "name": "ipython",
    "version": 3
   },
   "file_extension": ".py",
   "mimetype": "text/x-python",
   "name": "python",
   "nbconvert_exporter": "python",
   "pygments_lexer": "ipython3",
   "version": "3.10.0"
  }
 },
 "nbformat": 4,
 "nbformat_minor": 5
}
