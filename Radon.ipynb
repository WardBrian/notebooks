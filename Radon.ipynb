{
 "cells": [
  {
   "cell_type": "markdown",
   "id": "13124abe-2386-4739-af0f-108269a0e77a",
   "metadata": {},
   "source": [
    "# Radon case study\n",
    "\n",
    "Follows closely with [Bambi's](https://bambinos.github.io/bambi/main/notebooks/radon_example.html#Multilevel-and-hierarchical-models)"
   ]
  },
  {
   "cell_type": "code",
   "execution_count": null,
   "id": "12fd668c-46dd-4244-950d-9cead443c37d",
   "metadata": {},
   "outputs": [],
   "source": [
    "from scikit_stan import GLM\n",
    "import pandas as pd\n",
    "import numpy as np\n",
    "import formulae\n",
    "import arviz as az"
   ]
  },
  {
   "cell_type": "code",
   "execution_count": null,
   "id": "8202e562-7ff6-4991-920a-8c1ab40ffbcb",
   "metadata": {},
   "outputs": [],
   "source": [
    "radon = pd.read_csv('https://raw.githubusercontent.com/stan-dev/example-models/cmdstanpy-case-study-1/jupyter/radon/data/mn_radon.csv')\n",
    "counties = pd.read_csv('https://raw.githubusercontent.com/stan-dev/example-models/cmdstanpy-case-study-1/jupyter/radon/data/mn_counties.csv')"
   ]
  },
  {
   "cell_type": "code",
   "execution_count": null,
   "id": "49b027d7-fadf-452e-9727-be3e271852fd",
   "metadata": {},
   "outputs": [],
   "source": [
    "radon[\"floor\"] = radon[\"floor\"].map({0: \"Basement\", 1: \"Floor\"})\n",
    "radon.county = radon.county.map(str.strip)"
   ]
  },
  {
   "cell_type": "code",
   "execution_count": null,
   "id": "cd3e5f6a-9f94-45e0-95c5-2c666608ba11",
   "metadata": {},
   "outputs": [],
   "source": [
    "radon.head()"
   ]
  },
  {
   "cell_type": "markdown",
   "id": "e31dd596-700d-4460-91fe-1a1bc2fb1cc1",
   "metadata": {},
   "source": [
    "## Complete pooling"
   ]
  },
  {
   "cell_type": "code",
   "execution_count": null,
   "id": "0e7e4d38-a1ce-4261-b5d7-104c2433fb51",
   "metadata": {},
   "outputs": [],
   "source": [
    "form = formulae.design_matrices(\"log_radon ~ 0 + floor\", radon)\n",
    "X = np.array(form.common)\n",
    "y = np.array(form.response)\n",
    "form"
   ]
  },
  {
   "cell_type": "code",
   "execution_count": null,
   "id": "69dbc8bb-59d8-46b4-a303-5eaecf168627",
   "metadata": {},
   "outputs": [],
   "source": [
    "complete_model = GLM(fit_intercept=False)"
   ]
  },
  {
   "cell_type": "code",
   "execution_count": null,
   "id": "bfafe399-7df9-4fcc-a1dc-bc134f395de6",
   "metadata": {},
   "outputs": [],
   "source": [
    "complete_model.fit(X, y)"
   ]
  },
  {
   "cell_type": "code",
   "execution_count": null,
   "id": "d1d72445-df59-466a-9a2a-5787a4c8a0df",
   "metadata": {},
   "outputs": [],
   "source": [
    "az.plot_trace(az.from_cmdstanpy(complete_model.fitted_samples_), var_names=['beta', 'sigma'], compact=True)"
   ]
  },
  {
   "cell_type": "markdown",
   "id": "e7daacba-0ff0-4b3d-9c83-4e7e090cf32b",
   "metadata": {},
   "source": [
    "## No pooling"
   ]
  },
  {
   "cell_type": "code",
   "execution_count": null,
   "id": "e7b76a8b-0dbf-4e05-a214-e19c0c09c2da",
   "metadata": {},
   "outputs": [],
   "source": [
    "form = formulae.design_matrices(\"log_radon ~ 0 + county:floor\", radon)\n",
    "X = np.array(form.common)\n",
    "y = np.array(form.response)\n",
    "form"
   ]
  },
  {
   "cell_type": "code",
   "execution_count": null,
   "id": "86ba4f5d-9d1c-42ed-b714-e942308bb028",
   "metadata": {},
   "outputs": [],
   "source": [
    "unpooled = GLM(fit_intercept=False)"
   ]
  },
  {
   "cell_type": "code",
   "execution_count": null,
   "id": "e9e56092-62c6-493b-8d63-65b4b8a9d5bd",
   "metadata": {},
   "outputs": [],
   "source": [
    "unpooled.fit(X,y)"
   ]
  },
  {
   "cell_type": "code",
   "execution_count": null,
   "id": "dbe436d5-cbca-43a7-ad2e-fb6bcb1a2807",
   "metadata": {},
   "outputs": [],
   "source": [
    "az.plot_trace(az.from_cmdstanpy(unpooled.fitted_samples_), var_names=['beta', 'sigma'], compact=True)"
   ]
  },
  {
   "cell_type": "code",
   "execution_count": null,
   "id": "caca37da-b19b-4b67-80fd-97d324686aa8",
   "metadata": {},
   "outputs": [],
   "source": [
    "infdata = az.from_cmdstanpy(unpooled.fitted_samples_)\n",
    "infdata.posterior['beta_dim_0'] = form.common.as_dataframe().columns"
   ]
  },
  {
   "cell_type": "code",
   "execution_count": null,
   "id": "d37e1ecd-0d02-44e3-b545-b642f7ad655e",
   "metadata": {},
   "outputs": [],
   "source": [
    "az.plot_forest(data=infdata, var_names=['beta'], figsize=(6, 32), r_hat=True, combined=True, textsize=8)"
   ]
  },
  {
   "cell_type": "markdown",
   "id": "a40c3352-7a58-4639-9319-cfdbe5f3e2b3",
   "metadata": {},
   "source": [
    "## Partial pooling\n",
    "\n",
    "Need group-level data in a fit, or a new model? RSTANARM uses GLMER here. "
   ]
  },
  {
   "cell_type": "code",
   "execution_count": null,
   "id": "cecdffe8-3017-4414-bd94-32ef24b318c0",
   "metadata": {},
   "outputs": [],
   "source": [
    "(formulae.design_matrices('log_radon ~ 1 + (1|county)', radon).group)"
   ]
  },
  {
   "cell_type": "code",
   "execution_count": null,
   "id": "50f5dac1-48e2-4479-ade0-f4ef93e99d67",
   "metadata": {},
   "outputs": [],
   "source": []
  }
 ],
 "metadata": {
  "kernelspec": {
   "display_name": "Python 3 (ipykernel)",
   "language": "python",
   "name": "python3"
  },
  "language_info": {
   "codemirror_mode": {
    "name": "ipython",
    "version": 3
   },
   "file_extension": ".py",
   "mimetype": "text/x-python",
   "name": "python",
   "nbconvert_exporter": "python",
   "pygments_lexer": "ipython3",
   "version": "3.7.12"
  }
 },
 "nbformat": 4,
 "nbformat_minor": 5
}
