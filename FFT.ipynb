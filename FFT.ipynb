{
 "cells": [
  {
   "cell_type": "code",
   "execution_count": null,
   "id": "232269d6-f612-4cbf-8300-779729fbd048",
   "metadata": {},
   "outputs": [],
   "source": [
    "import numpy as np\n",
    "from scipy.fft import fft, fftfreq, ifft\n",
    "import matplotlib.pyplot as plt"
   ]
  },
  {
   "cell_type": "code",
   "execution_count": null,
   "id": "deee011b-5163-4789-b1c4-68fa289623f1",
   "metadata": {},
   "outputs": [],
   "source": [
    "# high-res fft\n",
    "N = 600\n",
    "# sample spacing\n",
    "T = 1.0 / 800.0\n",
    "x = np.linspace(0.0, N*T, N, endpoint=False)\n",
    "y = np.sin(50.0 * 2.0*np.pi*x) + 0.5*np.sin(80.0 * 2.0*np.pi*x)\n",
    "yf = fft(y)\n",
    "xf = fftfreq(N, T)[:N//2]\n",
    "\n",
    "plt.plot(xf, 2.0/N * np.abs(yf[0:N//2]))\n",
    "plt.grid()"
   ]
  },
  {
   "cell_type": "code",
   "execution_count": null,
   "id": "08ee4273-fcde-4589-92e7-2eb448563217",
   "metadata": {},
   "outputs": [],
   "source": [
    "# function being plotted\n",
    "plt.plot(x,y)"
   ]
  },
  {
   "cell_type": "code",
   "execution_count": null,
   "id": "e024eabd-9bfa-4016-8344-2dcd64a88be5",
   "metadata": {},
   "outputs": [],
   "source": [
    "def pad(x):\n",
    "    return np.concatenate((x, np.zeros_like(x)))"
   ]
  },
  {
   "cell_type": "code",
   "execution_count": null,
   "id": "29838070-3b2b-4e71-9016-6ff085d53152",
   "metadata": {},
   "outputs": [],
   "source": [
    "# Number of sample points\n",
    "N = 25\n",
    "# sample spacing\n",
    "T = 1.0 / 800.0\n",
    "\n",
    "x = np.linspace(0.0, N*T, N, endpoint=False)\n",
    "y = np.sin(50.0 * 2.0*np.pi*x) + 0.5*np.sin(80.0 * 2.0*np.pi*x)\n",
    "\n",
    "yf = fft(y)\n",
    "xf = fftfreq(N, T)[:N//2]\n",
    "plt.plot(xf, 2.0/N * np.abs(yf[0:N//2]))\n",
    "plt.grid()"
   ]
  },
  {
   "cell_type": "code",
   "execution_count": null,
   "id": "ae570495-2f2d-42ea-82b1-498ccd95f832",
   "metadata": {},
   "outputs": [],
   "source": [
    "# 2x Number of sample points\n",
    "N = 50\n",
    "# sample spacing\n",
    "T = 1.0 / 800.0\n",
    "x = np.linspace(0.0, N*T, N, endpoint=False)\n",
    "y = np.sin(50.0 * 2.0*np.pi*x) + 0.5*np.sin(80.0 * 2.0*np.pi*x)\n",
    "yf = fft(y)\n",
    "xf = fftfreq(N, T)[:N//2]\n",
    "\n",
    "plt.plot(xf, 2.0/N * np.abs(yf[0:N//2]))\n",
    "plt.grid()"
   ]
  },
  {
   "cell_type": "code",
   "execution_count": null,
   "id": "4b373e02-0504-4fc6-b2ee-45118f963e5d",
   "metadata": {},
   "outputs": [],
   "source": [
    "# Same number of sample points, twice oversampled \n",
    "\n",
    "N = 25\n",
    "# sample spacing\n",
    "T = 1.0 / 800.0\n",
    "x = np.linspace(0.0, N*T, N, endpoint=False)\n",
    "y = np.sin(50.0 * 2.0*np.pi*x) + 0.5*np.sin(80.0 * 2.0*np.pi*x)\n",
    "# pad\n",
    "yf = fft(pad(y))\n",
    "xf = fftfreq(2*N, T)[:N]\n",
    "\n",
    "\n",
    "plt.plot(xf, 1.0/N * np.abs(yf[0:N]))\n",
    "plt.grid()"
   ]
  },
  {
   "cell_type": "code",
   "execution_count": null,
   "id": "472dcc1d-4e3a-4ec6-b44e-20b30a048dc2",
   "metadata": {},
   "outputs": [],
   "source": [
    "plt.scatter(x,y)\n",
    "plt.xlim(-0.001,0.06)"
   ]
  },
  {
   "cell_type": "code",
   "execution_count": null,
   "id": "f50d3c2f-c076-4660-be02-af348a8e07e1",
   "metadata": {},
   "outputs": [],
   "source": [
    "plt.scatter(np.linspace(0.0, 2*N*T, 2*N, endpoint=False), (ifft(fft(pad(y)))))\n",
    "plt.xlim(-0.001,0.06)"
   ]
  },
  {
   "cell_type": "code",
   "execution_count": null,
   "id": "b7941bc1-e5cc-498b-86ed-c8daee848124",
   "metadata": {},
   "outputs": [],
   "source": []
  },
  {
   "cell_type": "code",
   "execution_count": null,
   "id": "7a2beabf-ba42-4ca5-be7b-f64f9e102fe3",
   "metadata": {},
   "outputs": [],
   "source": []
  }
 ],
 "metadata": {
  "kernelspec": {
   "display_name": "Python 3 (ipykernel)",
   "language": "python",
   "name": "python3"
  },
  "language_info": {
   "codemirror_mode": {
    "name": "ipython",
    "version": 3
   },
   "file_extension": ".py",
   "mimetype": "text/x-python",
   "name": "python",
   "nbconvert_exporter": "python",
   "pygments_lexer": "ipython3",
   "version": "3.9.4"
  }
 },
 "nbformat": 4,
 "nbformat_minor": 5
}
